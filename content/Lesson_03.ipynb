{
 "cells": [
  {
   "cell_type": "markdown",
   "id": "666ae208-f648-460d-9df9-2aad45328662",
   "metadata": {},
   "source": [
    "<img src=\"data:image/png;base64,iVBORw0KGgoAAAANSUhEUgAAACAAAAAgCAYAAABzenr0AAAAGXRFWHRTb2Z0d2FyZQBBZG9iZSBJbWFnZVJlYWR5ccllPAAAA11JREFUeNrEV81PE0EUf23XymcpFKhiIDVVtKZELuqBxEA0GBIP+A+gXjTxI8rFBOMBExIOHjigFy8Ybp7UeCAxGD3oxcQEY6OmSWOlAUS+QShiap3fpFO2y8x2G1p4yWR3Z3bn/d7vfc3aqo+Qm4gG2LhEOytP2OjWdkk5CZ027zFHssrtIVe5m88m/iVofT1OS8uLFF9fKzgK26lzjcmy0nLp4sbfDVpYnKP5hVl+XwjRZMp/r67Q7NwvzoZzj5O8tXWUSCTY3HTegWgyqyPRcMbcPGMBAlfFmXvy6RoNljkcjk0AG3+ULwsg+RT70soi7abYFwxWISb0jBRaNAQcWKhIpSGkxuOl1pZ2GuwfUn6Ibw6dqEw/37nRS1cu3srYRyWdXW30/sPbzSCcnIpRWcmm5dVVteRr8JtuEvo6lr7vuztAV7tuW7Y69G0sMwsQ+dMzk1S3r55PAsjZ0x2WNxkZfcGHVUGR25KGMyzvS5n/BYWq4iQkNvEjfS/o3HYdiE1EyelrpOKiEr5p5HuY2tvOm7ogGGimvp6B9Pwyi42bPZe5lcY1+N4UAGoCLPMzEMNPH1PLyVYlgHEGVoCGIn3wDfYTdV2/QPUHfHwPM5bsxglUOVRCgPEfbDRxQTTtT1imrycdZzr5telo85b3swLQg/DVyzNBb83wo2d88wcP728J0GDguDRmTHuBHkRVpcfUelAMaz++bs1wgQCIdSGfdVmTlQEhQR2FsgxoSCnQK4f1go2gBRcoGdCjN8rEzxi/ulxuvjHeRQyMjD6ne/3dPC4q2JreVfrCZQlAgwmAeHyNZ8qrNy+5UlWxkaWdZReI9JEJAhSFyp+qGdvqhqoFl6tCWYKj4xGeplAOEDio5Cqi0tpzD8Ao93c48oUf3dA3EANoXrm0cZ5lDLgaQKBZUYI/ZRzdJllAgg1kQuBwk2U28E0RY1AKABGs6uvjhnRCEwMbYEWwAbdka2ai62q50K/KZ7CBuIBSb81+fsWAi6ZnpvhVJsVFxXIAZjXArPVCEYYRCAAiLVfZGo76/NDjqeVBrOVSA1TVTAUE/xTV7HgHl9YwhRjG/WzvrlFS5gJ8JCsuIUVNzyYA43TuzTj+gxlbspeGdunnlP8hIwu6U7/KO64cuv8LMADD65N5idvdywAAAABJRU5ErkJggg==\">  <font style=\"font-size:34px\">&nbsp; <b>FIRST.org</b></font>\n",
    "\n",
    "<h1>Follow the money!</h1>\n",
    "\n",
    "This lesson will focus on ransomware and cryptocurrencies. We'll look at a campaign called Deadbolt, do some survival analysis (which is useful in lots of places), and then learn a surprising decryptor key mechanism. This tutorial is inspired by the good work we did in collaboration with Mark Ellzey @ censys.io. When you've finished the tutorial, go read some of the blogs listed at the bottom of this Lesson."
   ]
  },
  {
   "cell_type": "code",
   "execution_count": 1,
   "id": "8f5cab1b-696c-4423-847c-6eabe0a224e7",
   "metadata": {},
   "outputs": [],
   "source": [
    "import pandas as pd\n",
    "import json\n",
    "from scipy.stats import pearsonr\n",
    "from scipy.optimize import curve_fit\n",
    "import matplotlib.pyplot as plt\n",
    "plt.rcParams['figure.figsize'] = (11,8)\n",
    "plt.rcParams['figure.dpi'] = 300\n",
    "plt.rcParams['savefig.dpi'] = 300\n",
    "#COLOR = 'white'\n",
    "#plt.rcParams['text.color'] = 'black'\n",
    "#plt.rcParams['axes.labelcolor'] = COLOR\n",
    "#plt.rcParams['xtick.color'] = COLOR\n",
    "#plt.rcParams['ytick.color'] = COLOR\n",
    "import numpy as np\n",
    "from lifelines import KaplanMeierFitter, NelsonAalenFitter, WeibullFitter\n",
    "from lifelines.utils import median_survival_times, datetimes_to_durations"
   ]
  },
  {
   "cell_type": "code",
   "execution_count": 2,
   "id": "ba62e4d1-1266-4578-90bd-bdc1cc4d2af0",
   "metadata": {},
   "outputs": [
    {
     "name": "stderr",
     "output_type": "stream",
     "text": [
      "/tmp/ipykernel_557952/4206225943.py:2: FutureWarning: The argument 'infer_datetime_format' is deprecated and will be removed in a future version. A strict version of it is now the default, see https://pandas.pydata.org/pdeps/0004-consistent-to-datetime-parsing.html. You can safely remove this argument.\n",
      "  family_ransoms = pd.read_csv('/data/DeadBolt_Accounts_RANSOMS.csv',index_col='confirmed_datetime',infer_datetime_format=True,parse_dates=['confirmed_datetime','received_datetime'],low_memory=False)\n"
     ]
    },
    {
     "ename": "FileNotFoundError",
     "evalue": "[Errno 2] No such file or directory: '/data/DeadBolt_Accounts_RANSOMS.csv'",
     "output_type": "error",
     "traceback": [
      "\u001b[0;31m---------------------------------------------------------------------------\u001b[0m",
      "\u001b[0;31mFileNotFoundError\u001b[0m                         Traceback (most recent call last)",
      "Cell \u001b[0;32mIn[2], line 2\u001b[0m\n\u001b[1;32m      1\u001b[0m \u001b[38;5;66;03m#Get the data on all ransoms paid\u001b[39;00m\n\u001b[0;32m----> 2\u001b[0m family_ransoms \u001b[38;5;241m=\u001b[39m \u001b[43mpd\u001b[49m\u001b[38;5;241;43m.\u001b[39;49m\u001b[43mread_csv\u001b[49m\u001b[43m(\u001b[49m\u001b[38;5;124;43m'\u001b[39;49m\u001b[38;5;124;43m/data/DeadBolt_Accounts_RANSOMS.csv\u001b[39;49m\u001b[38;5;124;43m'\u001b[39;49m\u001b[43m,\u001b[49m\u001b[43mindex_col\u001b[49m\u001b[38;5;241;43m=\u001b[39;49m\u001b[38;5;124;43m'\u001b[39;49m\u001b[38;5;124;43mconfirmed_datetime\u001b[39;49m\u001b[38;5;124;43m'\u001b[39;49m\u001b[43m,\u001b[49m\u001b[43minfer_datetime_format\u001b[49m\u001b[38;5;241;43m=\u001b[39;49m\u001b[38;5;28;43;01mTrue\u001b[39;49;00m\u001b[43m,\u001b[49m\u001b[43mparse_dates\u001b[49m\u001b[38;5;241;43m=\u001b[39;49m\u001b[43m[\u001b[49m\u001b[38;5;124;43m'\u001b[39;49m\u001b[38;5;124;43mconfirmed_datetime\u001b[39;49m\u001b[38;5;124;43m'\u001b[39;49m\u001b[43m,\u001b[49m\u001b[38;5;124;43m'\u001b[39;49m\u001b[38;5;124;43mreceived_datetime\u001b[39;49m\u001b[38;5;124;43m'\u001b[39;49m\u001b[43m]\u001b[49m\u001b[43m,\u001b[49m\u001b[43mlow_memory\u001b[49m\u001b[38;5;241;43m=\u001b[39;49m\u001b[38;5;28;43;01mFalse\u001b[39;49;00m\u001b[43m)\u001b[49m\n",
      "File \u001b[0;32m~/project/venv/lib/python3.11/site-packages/pandas/io/parsers/readers.py:948\u001b[0m, in \u001b[0;36mread_csv\u001b[0;34m(filepath_or_buffer, sep, delimiter, header, names, index_col, usecols, dtype, engine, converters, true_values, false_values, skipinitialspace, skiprows, skipfooter, nrows, na_values, keep_default_na, na_filter, verbose, skip_blank_lines, parse_dates, infer_datetime_format, keep_date_col, date_parser, date_format, dayfirst, cache_dates, iterator, chunksize, compression, thousands, decimal, lineterminator, quotechar, quoting, doublequote, escapechar, comment, encoding, encoding_errors, dialect, on_bad_lines, delim_whitespace, low_memory, memory_map, float_precision, storage_options, dtype_backend)\u001b[0m\n\u001b[1;32m    935\u001b[0m kwds_defaults \u001b[38;5;241m=\u001b[39m _refine_defaults_read(\n\u001b[1;32m    936\u001b[0m     dialect,\n\u001b[1;32m    937\u001b[0m     delimiter,\n\u001b[0;32m   (...)\u001b[0m\n\u001b[1;32m    944\u001b[0m     dtype_backend\u001b[38;5;241m=\u001b[39mdtype_backend,\n\u001b[1;32m    945\u001b[0m )\n\u001b[1;32m    946\u001b[0m kwds\u001b[38;5;241m.\u001b[39mupdate(kwds_defaults)\n\u001b[0;32m--> 948\u001b[0m \u001b[38;5;28;01mreturn\u001b[39;00m \u001b[43m_read\u001b[49m\u001b[43m(\u001b[49m\u001b[43mfilepath_or_buffer\u001b[49m\u001b[43m,\u001b[49m\u001b[43m \u001b[49m\u001b[43mkwds\u001b[49m\u001b[43m)\u001b[49m\n",
      "File \u001b[0;32m~/project/venv/lib/python3.11/site-packages/pandas/io/parsers/readers.py:611\u001b[0m, in \u001b[0;36m_read\u001b[0;34m(filepath_or_buffer, kwds)\u001b[0m\n\u001b[1;32m    608\u001b[0m _validate_names(kwds\u001b[38;5;241m.\u001b[39mget(\u001b[38;5;124m\"\u001b[39m\u001b[38;5;124mnames\u001b[39m\u001b[38;5;124m\"\u001b[39m, \u001b[38;5;28;01mNone\u001b[39;00m))\n\u001b[1;32m    610\u001b[0m \u001b[38;5;66;03m# Create the parser.\u001b[39;00m\n\u001b[0;32m--> 611\u001b[0m parser \u001b[38;5;241m=\u001b[39m \u001b[43mTextFileReader\u001b[49m\u001b[43m(\u001b[49m\u001b[43mfilepath_or_buffer\u001b[49m\u001b[43m,\u001b[49m\u001b[43m \u001b[49m\u001b[38;5;241;43m*\u001b[39;49m\u001b[38;5;241;43m*\u001b[39;49m\u001b[43mkwds\u001b[49m\u001b[43m)\u001b[49m\n\u001b[1;32m    613\u001b[0m \u001b[38;5;28;01mif\u001b[39;00m chunksize \u001b[38;5;129;01mor\u001b[39;00m iterator:\n\u001b[1;32m    614\u001b[0m     \u001b[38;5;28;01mreturn\u001b[39;00m parser\n",
      "File \u001b[0;32m~/project/venv/lib/python3.11/site-packages/pandas/io/parsers/readers.py:1448\u001b[0m, in \u001b[0;36mTextFileReader.__init__\u001b[0;34m(self, f, engine, **kwds)\u001b[0m\n\u001b[1;32m   1445\u001b[0m     \u001b[38;5;28mself\u001b[39m\u001b[38;5;241m.\u001b[39moptions[\u001b[38;5;124m\"\u001b[39m\u001b[38;5;124mhas_index_names\u001b[39m\u001b[38;5;124m\"\u001b[39m] \u001b[38;5;241m=\u001b[39m kwds[\u001b[38;5;124m\"\u001b[39m\u001b[38;5;124mhas_index_names\u001b[39m\u001b[38;5;124m\"\u001b[39m]\n\u001b[1;32m   1447\u001b[0m \u001b[38;5;28mself\u001b[39m\u001b[38;5;241m.\u001b[39mhandles: IOHandles \u001b[38;5;241m|\u001b[39m \u001b[38;5;28;01mNone\u001b[39;00m \u001b[38;5;241m=\u001b[39m \u001b[38;5;28;01mNone\u001b[39;00m\n\u001b[0;32m-> 1448\u001b[0m \u001b[38;5;28mself\u001b[39m\u001b[38;5;241m.\u001b[39m_engine \u001b[38;5;241m=\u001b[39m \u001b[38;5;28;43mself\u001b[39;49m\u001b[38;5;241;43m.\u001b[39;49m\u001b[43m_make_engine\u001b[49m\u001b[43m(\u001b[49m\u001b[43mf\u001b[49m\u001b[43m,\u001b[49m\u001b[43m \u001b[49m\u001b[38;5;28;43mself\u001b[39;49m\u001b[38;5;241;43m.\u001b[39;49m\u001b[43mengine\u001b[49m\u001b[43m)\u001b[49m\n",
      "File \u001b[0;32m~/project/venv/lib/python3.11/site-packages/pandas/io/parsers/readers.py:1705\u001b[0m, in \u001b[0;36mTextFileReader._make_engine\u001b[0;34m(self, f, engine)\u001b[0m\n\u001b[1;32m   1703\u001b[0m     \u001b[38;5;28;01mif\u001b[39;00m \u001b[38;5;124m\"\u001b[39m\u001b[38;5;124mb\u001b[39m\u001b[38;5;124m\"\u001b[39m \u001b[38;5;129;01mnot\u001b[39;00m \u001b[38;5;129;01min\u001b[39;00m mode:\n\u001b[1;32m   1704\u001b[0m         mode \u001b[38;5;241m+\u001b[39m\u001b[38;5;241m=\u001b[39m \u001b[38;5;124m\"\u001b[39m\u001b[38;5;124mb\u001b[39m\u001b[38;5;124m\"\u001b[39m\n\u001b[0;32m-> 1705\u001b[0m \u001b[38;5;28mself\u001b[39m\u001b[38;5;241m.\u001b[39mhandles \u001b[38;5;241m=\u001b[39m \u001b[43mget_handle\u001b[49m\u001b[43m(\u001b[49m\n\u001b[1;32m   1706\u001b[0m \u001b[43m    \u001b[49m\u001b[43mf\u001b[49m\u001b[43m,\u001b[49m\n\u001b[1;32m   1707\u001b[0m \u001b[43m    \u001b[49m\u001b[43mmode\u001b[49m\u001b[43m,\u001b[49m\n\u001b[1;32m   1708\u001b[0m \u001b[43m    \u001b[49m\u001b[43mencoding\u001b[49m\u001b[38;5;241;43m=\u001b[39;49m\u001b[38;5;28;43mself\u001b[39;49m\u001b[38;5;241;43m.\u001b[39;49m\u001b[43moptions\u001b[49m\u001b[38;5;241;43m.\u001b[39;49m\u001b[43mget\u001b[49m\u001b[43m(\u001b[49m\u001b[38;5;124;43m\"\u001b[39;49m\u001b[38;5;124;43mencoding\u001b[39;49m\u001b[38;5;124;43m\"\u001b[39;49m\u001b[43m,\u001b[49m\u001b[43m \u001b[49m\u001b[38;5;28;43;01mNone\u001b[39;49;00m\u001b[43m)\u001b[49m\u001b[43m,\u001b[49m\n\u001b[1;32m   1709\u001b[0m \u001b[43m    \u001b[49m\u001b[43mcompression\u001b[49m\u001b[38;5;241;43m=\u001b[39;49m\u001b[38;5;28;43mself\u001b[39;49m\u001b[38;5;241;43m.\u001b[39;49m\u001b[43moptions\u001b[49m\u001b[38;5;241;43m.\u001b[39;49m\u001b[43mget\u001b[49m\u001b[43m(\u001b[49m\u001b[38;5;124;43m\"\u001b[39;49m\u001b[38;5;124;43mcompression\u001b[39;49m\u001b[38;5;124;43m\"\u001b[39;49m\u001b[43m,\u001b[49m\u001b[43m \u001b[49m\u001b[38;5;28;43;01mNone\u001b[39;49;00m\u001b[43m)\u001b[49m\u001b[43m,\u001b[49m\n\u001b[1;32m   1710\u001b[0m \u001b[43m    \u001b[49m\u001b[43mmemory_map\u001b[49m\u001b[38;5;241;43m=\u001b[39;49m\u001b[38;5;28;43mself\u001b[39;49m\u001b[38;5;241;43m.\u001b[39;49m\u001b[43moptions\u001b[49m\u001b[38;5;241;43m.\u001b[39;49m\u001b[43mget\u001b[49m\u001b[43m(\u001b[49m\u001b[38;5;124;43m\"\u001b[39;49m\u001b[38;5;124;43mmemory_map\u001b[39;49m\u001b[38;5;124;43m\"\u001b[39;49m\u001b[43m,\u001b[49m\u001b[43m \u001b[49m\u001b[38;5;28;43;01mFalse\u001b[39;49;00m\u001b[43m)\u001b[49m\u001b[43m,\u001b[49m\n\u001b[1;32m   1711\u001b[0m \u001b[43m    \u001b[49m\u001b[43mis_text\u001b[49m\u001b[38;5;241;43m=\u001b[39;49m\u001b[43mis_text\u001b[49m\u001b[43m,\u001b[49m\n\u001b[1;32m   1712\u001b[0m \u001b[43m    \u001b[49m\u001b[43merrors\u001b[49m\u001b[38;5;241;43m=\u001b[39;49m\u001b[38;5;28;43mself\u001b[39;49m\u001b[38;5;241;43m.\u001b[39;49m\u001b[43moptions\u001b[49m\u001b[38;5;241;43m.\u001b[39;49m\u001b[43mget\u001b[49m\u001b[43m(\u001b[49m\u001b[38;5;124;43m\"\u001b[39;49m\u001b[38;5;124;43mencoding_errors\u001b[39;49m\u001b[38;5;124;43m\"\u001b[39;49m\u001b[43m,\u001b[49m\u001b[43m \u001b[49m\u001b[38;5;124;43m\"\u001b[39;49m\u001b[38;5;124;43mstrict\u001b[39;49m\u001b[38;5;124;43m\"\u001b[39;49m\u001b[43m)\u001b[49m\u001b[43m,\u001b[49m\n\u001b[1;32m   1713\u001b[0m \u001b[43m    \u001b[49m\u001b[43mstorage_options\u001b[49m\u001b[38;5;241;43m=\u001b[39;49m\u001b[38;5;28;43mself\u001b[39;49m\u001b[38;5;241;43m.\u001b[39;49m\u001b[43moptions\u001b[49m\u001b[38;5;241;43m.\u001b[39;49m\u001b[43mget\u001b[49m\u001b[43m(\u001b[49m\u001b[38;5;124;43m\"\u001b[39;49m\u001b[38;5;124;43mstorage_options\u001b[39;49m\u001b[38;5;124;43m\"\u001b[39;49m\u001b[43m,\u001b[49m\u001b[43m \u001b[49m\u001b[38;5;28;43;01mNone\u001b[39;49;00m\u001b[43m)\u001b[49m\u001b[43m,\u001b[49m\n\u001b[1;32m   1714\u001b[0m \u001b[43m\u001b[49m\u001b[43m)\u001b[49m\n\u001b[1;32m   1715\u001b[0m \u001b[38;5;28;01massert\u001b[39;00m \u001b[38;5;28mself\u001b[39m\u001b[38;5;241m.\u001b[39mhandles \u001b[38;5;129;01mis\u001b[39;00m \u001b[38;5;129;01mnot\u001b[39;00m \u001b[38;5;28;01mNone\u001b[39;00m\n\u001b[1;32m   1716\u001b[0m f \u001b[38;5;241m=\u001b[39m \u001b[38;5;28mself\u001b[39m\u001b[38;5;241m.\u001b[39mhandles\u001b[38;5;241m.\u001b[39mhandle\n",
      "File \u001b[0;32m~/project/venv/lib/python3.11/site-packages/pandas/io/common.py:863\u001b[0m, in \u001b[0;36mget_handle\u001b[0;34m(path_or_buf, mode, encoding, compression, memory_map, is_text, errors, storage_options)\u001b[0m\n\u001b[1;32m    858\u001b[0m \u001b[38;5;28;01melif\u001b[39;00m \u001b[38;5;28misinstance\u001b[39m(handle, \u001b[38;5;28mstr\u001b[39m):\n\u001b[1;32m    859\u001b[0m     \u001b[38;5;66;03m# Check whether the filename is to be opened in binary mode.\u001b[39;00m\n\u001b[1;32m    860\u001b[0m     \u001b[38;5;66;03m# Binary mode does not support 'encoding' and 'newline'.\u001b[39;00m\n\u001b[1;32m    861\u001b[0m     \u001b[38;5;28;01mif\u001b[39;00m ioargs\u001b[38;5;241m.\u001b[39mencoding \u001b[38;5;129;01mand\u001b[39;00m \u001b[38;5;124m\"\u001b[39m\u001b[38;5;124mb\u001b[39m\u001b[38;5;124m\"\u001b[39m \u001b[38;5;129;01mnot\u001b[39;00m \u001b[38;5;129;01min\u001b[39;00m ioargs\u001b[38;5;241m.\u001b[39mmode:\n\u001b[1;32m    862\u001b[0m         \u001b[38;5;66;03m# Encoding\u001b[39;00m\n\u001b[0;32m--> 863\u001b[0m         handle \u001b[38;5;241m=\u001b[39m \u001b[38;5;28;43mopen\u001b[39;49m\u001b[43m(\u001b[49m\n\u001b[1;32m    864\u001b[0m \u001b[43m            \u001b[49m\u001b[43mhandle\u001b[49m\u001b[43m,\u001b[49m\n\u001b[1;32m    865\u001b[0m \u001b[43m            \u001b[49m\u001b[43mioargs\u001b[49m\u001b[38;5;241;43m.\u001b[39;49m\u001b[43mmode\u001b[49m\u001b[43m,\u001b[49m\n\u001b[1;32m    866\u001b[0m \u001b[43m            \u001b[49m\u001b[43mencoding\u001b[49m\u001b[38;5;241;43m=\u001b[39;49m\u001b[43mioargs\u001b[49m\u001b[38;5;241;43m.\u001b[39;49m\u001b[43mencoding\u001b[49m\u001b[43m,\u001b[49m\n\u001b[1;32m    867\u001b[0m \u001b[43m            \u001b[49m\u001b[43merrors\u001b[49m\u001b[38;5;241;43m=\u001b[39;49m\u001b[43merrors\u001b[49m\u001b[43m,\u001b[49m\n\u001b[1;32m    868\u001b[0m \u001b[43m            \u001b[49m\u001b[43mnewline\u001b[49m\u001b[38;5;241;43m=\u001b[39;49m\u001b[38;5;124;43m\"\u001b[39;49m\u001b[38;5;124;43m\"\u001b[39;49m\u001b[43m,\u001b[49m\n\u001b[1;32m    869\u001b[0m \u001b[43m        \u001b[49m\u001b[43m)\u001b[49m\n\u001b[1;32m    870\u001b[0m     \u001b[38;5;28;01melse\u001b[39;00m:\n\u001b[1;32m    871\u001b[0m         \u001b[38;5;66;03m# Binary mode\u001b[39;00m\n\u001b[1;32m    872\u001b[0m         handle \u001b[38;5;241m=\u001b[39m \u001b[38;5;28mopen\u001b[39m(handle, ioargs\u001b[38;5;241m.\u001b[39mmode)\n",
      "\u001b[0;31mFileNotFoundError\u001b[0m: [Errno 2] No such file or directory: '/data/DeadBolt_Accounts_RANSOMS.csv'"
     ]
    }
   ],
   "source": [
    "#Get the data on all ransoms paid\n",
    "family_ransoms = pd.read_csv('/data/DeadBolt_Accounts_RANSOMS.csv',index_col='confirmed_datetime',infer_datetime_format=True,parse_dates=['confirmed_datetime','received_datetime'],low_memory=False)"
   ]
  },
  {
   "cell_type": "code",
   "execution_count": null,
   "id": "e7491c7e-97f5-4a27-bdf7-7f2057c5ef62",
   "metadata": {},
   "outputs": [],
   "source": [
    "#Reorder the data based on time...rec'vd time is closer to infection, confirmation is when the blockchain confirmed it\n",
    "family_ransoms = family_ransoms.sort_values('received_datetime')"
   ]
  },
  {
   "cell_type": "code",
   "execution_count": null,
   "id": "e0ea6a48-ca65-4819-b00d-e0beb52fb344",
   "metadata": {},
   "outputs": [],
   "source": [
    "#Infection data from Censys.io\n",
    "deadbolt_infections = [\n",
    "  {\n",
    "    \"d\": \"2022-01-24\",\n",
    "    \"count\": \"1\"\n",
    "  },\n",
    "  {\n",
    "    \"d\": \"2022-01-25\",\n",
    "    \"count\": \"4142\"\n",
    "  },\n",
    "  {\n",
    "    \"d\": \"2022-01-26\",\n",
    "    \"count\": \"4988\"\n",
    "  },\n",
    "  {\n",
    "    \"d\": \"2022-01-27\",\n",
    "    \"count\": \"3927\"\n",
    "  },\n",
    "  {\n",
    "    \"d\": \"2022-01-28\",\n",
    "    \"count\": \"2002\"\n",
    "  },\n",
    "  {\n",
    "    \"d\": \"2022-01-29\",\n",
    "    \"count\": \"1128\"\n",
    "  },\n",
    "  {\n",
    "    \"d\": \"2022-01-30\",\n",
    "    \"count\": \"920\"\n",
    "  },\n",
    "  {\n",
    "    \"d\": \"2022-01-31\",\n",
    "    \"count\": \"853\"\n",
    "  },\n",
    "  {\n",
    "    \"d\": \"2022-02-01\",\n",
    "    \"count\": \"783\"\n",
    "  },\n",
    "  {\n",
    "    \"d\": \"2022-02-02\",\n",
    "    \"count\": \"735\"\n",
    "  },\n",
    "  {\n",
    "    \"d\": \"2022-02-03\",\n",
    "    \"count\": \"712\"\n",
    "  },\n",
    "  {\n",
    "    \"d\": \"2022-02-04\",\n",
    "    \"count\": \"656\"\n",
    "  },\n",
    "  {\n",
    "    \"d\": \"2022-02-05\",\n",
    "    \"count\": \"627\"\n",
    "  }\n",
    "]"
   ]
  },
  {
   "cell_type": "code",
   "execution_count": null,
   "id": "3d44ea92-30b2-4a8a-908b-f42e547cd627",
   "metadata": {},
   "outputs": [],
   "source": [
    "#Turn it into two lists of infection numbers and dates\n",
    "collector_list = []\n",
    "for blob in deadbolt_infections:\n",
    "    collector_list.append([blob['d'], int(blob['count'])])"
   ]
  },
  {
   "cell_type": "code",
   "execution_count": null,
   "id": "65b77830-1cb3-448b-a8cb-1792822d4739",
   "metadata": {},
   "outputs": [],
   "source": [
    "#Make it a dataframe\n",
    "infection_timeseries = pd.DataFrame(collector_list,columns=['Date','Count'])\n",
    "infection_timeseries['Date'] = pd.to_datetime(infection_timeseries['Date'])\n",
    "infection_timeseries = infection_timeseries.set_index('Date')"
   ]
  },
  {
   "cell_type": "markdown",
   "id": "bfdbf4af-d0f1-4b98-aee8-4971e32be8ef",
   "metadata": {},
   "source": [
    "Now let's do a little science and test something that should be intuitive. Does the number of infections correlate to the number of ransoms paid (numerically speaking). We'll need to talk a little about 'the null hypothesis' is that they do not. We want a p_value below a 'confidence' interval to reject the null hypothesis. The correlation is a number symbolising HOW STRONGLY they correlate, but it's useless if we don't reject the null hypothesis below say a 5% confidence interval."
   ]
  },
  {
   "cell_type": "code",
   "execution_count": null,
   "id": "8c8c38c3-73ac-4190-bf72-4b0f9f53fbdb",
   "metadata": {},
   "outputs": [],
   "source": [
    "#Have to trim the ransoms to be the same length to use Pearson's\n",
    "#Note this is a one day lag correlation\n",
    "corr, p_value = pearsonr(infection_timeseries['Count'], family_ransoms['count'].resample('D').sum().head(13))\n",
    "print('Pearsons correlation: %.3f' % corr)\n",
    "print('P-value is: %.10F' % p_value)"
   ]
  },
  {
   "cell_type": "markdown",
   "id": "e092f63b-fed6-42d1-af34-25f0009b0c99",
   "metadata": {},
   "source": [
    "So trying to sum up our result into a single scientific sentence:\n",
    "We can reject the null hypothesis that ransoms don't correlate with infections.\n",
    "Or in more plain English:\n",
    "There's less than a 1% chance of our scientific result occuring by accident.\n",
    "So, More infections = more ransoms paid."
   ]
  },
  {
   "cell_type": "code",
   "execution_count": null,
   "id": "7acfa21b-8502-4a79-b623-2e9f8d5a546d",
   "metadata": {},
   "outputs": [],
   "source": [
    "#Let's look at how the infections change over time\n",
    "plt.plot(infection_timeseries.index,infection_timeseries['Count'], label = \"Infections\")\n",
    "plt.xticks(rotation=45)"
   ]
  },
  {
   "cell_type": "code",
   "execution_count": null,
   "id": "0e1c7ed6-4819-4718-bf5b-7bd35d66e25e",
   "metadata": {},
   "outputs": [],
   "source": [
    "#This variable is crucial to produce a bunch of graphs below\n",
    "#It is used in so many places we put it here for if you need to change it\n",
    "#That happens when a new ransom paymnent rolls in\n",
    "#num_days = 240\n",
    "num_days = len(family_ransoms['count'].resample('D').sum())"
   ]
  },
  {
   "cell_type": "code",
   "execution_count": null,
   "id": "a23d37a8-4b40-42a5-9866-f25fadfcb51b",
   "metadata": {},
   "outputs": [],
   "source": [
    "#Let's look at ransoms paid over time\n",
    "plt.plot(np.arange(1,num_days,1),family_ransoms.resample('D').sum()['count'][1:], label = \"Ransoms\")\n",
    "plt.xticks(rotation=45)"
   ]
  },
  {
   "cell_type": "code",
   "execution_count": null,
   "id": "fa63a433-52a8-4165-9616-f9c8c8816fb2",
   "metadata": {},
   "outputs": [],
   "source": [
    "payment_list = pd.to_datetime(family_ransoms['received_datetime'],format='ISO8601').dt.date.to_list()\n",
    "non_payment_list = [None]*(4988-len(payment_list))\n",
    "full_list = payment_list + non_payment_list\n",
    "d = {'infection':['2022-01-24']*max(infection_timeseries['Count']),'payment':full_list}\n",
    "survival_analysis = pd.DataFrame(d)"
   ]
  },
  {
   "cell_type": "code",
   "execution_count": null,
   "id": "f8fa7e8a-9dba-4f7b-8d98-b682bb02b662",
   "metadata": {},
   "outputs": [],
   "source": [
    "kmf = KaplanMeierFitter()\n",
    "survival_analysis = survival_analysis.reset_index()\n",
    "survival_analysis = survival_analysis[['infection','payment']]\n",
    "T, E = datetimes_to_durations(survival_analysis['infection'], survival_analysis['payment'], freq='D')\n",
    "kmf.fit(T, E, label='Deadbolt Ransom Payment Proportion Over Time')\n",
    "kmf.plot()\n",
    "plt.xlabel('Duration from infection to ransom payment (days)')\n",
    "plt.ylabel('Proportion of infection who did not pay ransom')"
   ]
  },
  {
   "cell_type": "code",
   "execution_count": null,
   "id": "c5effad7-9ff0-4889-ada4-cac62a5d5bad",
   "metadata": {},
   "outputs": [],
   "source": [
    "kmf.confidence_interval_"
   ]
  },
  {
   "cell_type": "code",
   "execution_count": null,
   "id": "dc61ee77-492a-45e7-85e7-8dd9f7157c0f",
   "metadata": {},
   "outputs": [],
   "source": [
    "# Get the data on all transactions\n",
    "# There's a very interesting BTC address in here, that both sends and recieves. Can you figure out which one?\n",
    "find_the_interesting_address = pd.read_csv('/data/DeadBolt_Accounts_TRXNS.csv',index_col='confirmed_datetime',infer_datetime_format=True,parse_dates=['confirmed_datetime','received_datetime'],low_memory=False)"
   ]
  },
  {
   "cell_type": "code",
   "execution_count": null,
   "id": "022ca2a9-7986-49b3-9d31-e2ee6ddca08f",
   "metadata": {},
   "outputs": [],
   "source": [
    "# Now you may need to look at other sources than just this notebook to figure out what is going on. \n",
    "# Use the address in a blockchain explorer, and see if you can understand what is in the the OP_RETURN fields of \n",
    "# transactions to that address"
   ]
  },
  {
   "cell_type": "markdown",
   "id": "d68ebeb1-40f4-4842-8956-6ef1fdb6a0b7",
   "metadata": {},
   "source": [
    "Mark's [initial post](https://censys.com/tracking-deadbolt-ransomware-across-the-globe/), where he contacted me to follow the money.\n",
    "Mark's [follow up](https://censys.com/the-neverending-story-of-deadbolt/) work with his own data science team.\n",
    "The data science team at Censys made it easy to [track infections](https://lookerstudio.google.com/reporting/f8d38b6c-9997-4bba-be93-19cf57d7371a/page/p_dxblu6m2uc). Which is a practical and real world example of how jupyter notebooks and collaboration helps incident response."
   ]
  },
  {
   "cell_type": "code",
   "execution_count": null,
   "id": "b2a01d0d-c7ac-422f-b1a3-a8807c1c637d",
   "metadata": {},
   "outputs": [],
   "source": []
  }
 ],
 "metadata": {
  "kernelspec": {
   "display_name": "Python 3 (ipykernel)",
   "language": "python",
   "name": "python3"
  },
  "language_info": {
   "codemirror_mode": {
    "name": "ipython",
    "version": 3
   },
   "file_extension": ".py",
   "mimetype": "text/x-python",
   "name": "python",
   "nbconvert_exporter": "python",
   "pygments_lexer": "ipython3",
   "version": "3.11.2"
  }
 },
 "nbformat": 4,
 "nbformat_minor": 5
}
